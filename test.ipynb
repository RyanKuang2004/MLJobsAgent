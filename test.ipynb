{
 "cells": [
  {
   "cell_type": "code",
   "execution_count": 1,
   "metadata": {},
   "outputs": [],
   "source": [
    "from langchain_chroma import Chroma\n",
    "from langchain_openai import OpenAIEmbeddings\n",
    "\n",
    "vectorstore_path = \"./chroma\"\n",
    "\n",
    "db = Chroma(\n",
    "    persist_directory=vectorstore_path,\n",
    "    embedding_function=OpenAIEmbeddings(model=\"text-embedding-3-small\")\n",
    ")"
   ]
  },
  {
   "cell_type": "code",
   "execution_count": null,
   "metadata": {},
   "outputs": [
    {
     "name": "stdout",
     "output_type": "stream",
     "text": [
      "**Responsibilities**\n",
      "\n",
      "*   Work closely with stakeholders to understand user requirements and translate them into scalable AI solutions.\n",
      "*   Continuously monitor and refine LLM systems to ensure optimal performance and alignment with evolving business needs.\n",
      "*   Experiment with and implement state-of-the-art methodologies to improve AI model performance and reliability.\n",
      "*   Collaborate with the broader team to prioritize and deliver impactful features on time.\n",
      "\n",
      "**Skillset & Experience**\n",
      "\n",
      "*   Proven experience deploying and optimizing large language models in production environments.\n",
      "*   Hands-on expertise in designing and implementing retrieval-augmented generation (RAG) systems.\n",
      "*   A strong background in building evaluation frameworks and improving AI systems iteratively.\n",
      "*   Familiarity with cloud platforms such as Google Cloud Platform (GCP) or similar environments.\n",
      "*   Adaptability and a problem-solving mindset to thrive in fast-paced, high-ambiguity situations.\n",
      "**We're interested in hearing from people who:**\n",
      "\n",
      "*   Can bring their expertise in Gen AI Models (LLMs, GANs, RL and RAG)\n",
      "*   Deliver innovative solutions using Gen AI technologies\n",
      "*   Show a thorough understanding of ML and deep learning principles and algorithms\n",
      "*   Are experienced with cloud platforms, ideally AWS\n",
      "*   Code in multiple languages including Python, and enjoy working with machine learning frameworks (such as TensorFlow, PyTorch, or Scikit-Learn)\n",
      "*   Work with large datasets, with knowledge of Data Pre-Processing Techniques\n",
      "\n",
      "**Tech skills**\n",
      "\n",
      "We use a broad range of tools, languages, and frameworks. We do not expect you to know them all but experience or exposure with some of these (or equivalents) will set you up for success in this team;\n",
      "\n",
      "*   Proficiency in languages such as Python, Java, or C++\n",
      "*   AWS services such as SageMaker, Bedrock, Rekognition, and Comprehend\n",
      "*   Docker or Kubernetes\n",
      "*   DevOps practices and tools such as Github Actions, Jenkins, Terraform\n",
      "*   Strong understanding and practical experience in statistics and machine learning, including causal inference and experimental design.\n",
      "*   Proficiency in Python, SQL, and machine learning frameworks (e.g TensorFlow, PyTorch)\n",
      "*   Strong background in AI/ML techniques, including NLP (traditional and LLMs), computer vision and predictive analytics.\n",
      "*   Strong knowledge of data science tools and technologies, including programming languages such as Python and the use of Git.\n",
      "*   Experience in platforms such as Snowflake, S3 and Databricks/SageMaker (beneficial).\n",
      "*   Familiar with cloud platforms such as AWS or Azure (beneficial).\n",
      "*   Experience with software development industry best practices.\n",
      "*   Strong stakeholder relationship management skills.\n",
      "*   Excellent problem-solving and analytical abilities.\n",
      "*   Awareness and understanding of Generative AI, Prompt Engineering and Large Language Models is highly desirable.  \n",
      "    \n",
      "*   Experience applying machine learning methods to products, features and/or services, including minimizing footprint, evaluating trade-offs, and pipeline work.  \n",
      "    \n",
      "*   Experience with cloud platforms, micro-services, and serverless architectures (ideally with AWS) and deployments, including devOps and CI/CD experience.  \n",
      "    \n",
      "*   An ability to communicate effectively with non-engineers of varying levels at the company including coaching both technical and non-technical skills.  \n",
      "    \n",
      "*   Previous experience with programming languages, techniques, and frameworks aligned with machine learning and software systems e.g. Python, Typescript, ML platforms such as Amazon SageMaker, LLMs platforms such as OpenAI, Amazon Bedrock, libraries like Pandas, & SKLearn.\n",
      "**Required Skills**  \n",
      "\n",
      "*   Strong understanding and practical experience in statistics and machine learning, including causal inference and experimental design.\n",
      "*   Proficiency in Python, SQL, and machine learning frameworks (e.g TensorFlow, PyTorch)\n",
      "*   Strong background in AI/ML techniques, including NLP (traditional and LLMs), computer vision and predictive analytics.\n",
      "*   Strong knowledge of data science tools and technologies, including programming languages such as Python and the use of Git.\n",
      "*   Experience in platforms such as Snowflake, S3 and Databricks/SageMaker (beneficial).\n",
      "*   Familiar with cloud platforms such as AWS or Azure\n"
     ]
    }
   ],
   "source": [
    "retriever = db.as_retriever(search_kwargs={\"k\": 5})\n",
    "documents = retriever.invoke(\"Does knowing how to build RAGs helpful for getting a job in Machine Learning\")\n",
    "for doc in documents:\n",
    "    print(doc.page_content)"
   ]
  },
  {
   "cell_type": "code",
   "execution_count": 20,
   "metadata": {},
   "outputs": [
    {
     "data": {
      "image/png": "[encoded data removed]",
      "text/plain": [
       "<IPython.core.display.Image object>"
      ]
     },
     "metadata": {},
     "output_type": "display_data"
    }
   ],
   "source": [
    "from typing import List, Literal\n",
    "from typing_extensions import TypedDict\n",
    "from langgraph.graph import END, StateGraph, MessagesState\n",
    "from langchain.schema import Document\n",
    "from langchain_openai import ChatOpenAI, OpenAIEmbeddings\n",
    "from langchain_ollama import ChatOllama\n",
    "from langchain_chroma import Chroma\n",
    "import sqlite3\n",
    "from langgraph.checkpoint.sqlite import SqliteSaver\n",
    "from prompts import ROUTER_INSTRUCTIONS, DOCUMENT_GRADER_INSTRUCTIONS, RESPONSE_INSTRUCTIONS\n",
    "from langchain_core.messages import HumanMessage, SystemMessage, RemoveMessage, AIMessage\n",
    "from pydantic import BaseModel, Field\n",
    "from langchain_community.tools.tavily_search import TavilySearchResults\n",
    "import os\n",
    "from dotenv import load_dotenv\n",
    "from IPython.display import Image, display\n",
    "\n",
    "load_dotenv()\n",
    "\n",
    "def _set_env(var: str):\n",
    "    if not os.environ.get(var):\n",
    "        os.environ[var] = os.getenv(var)\n",
    "\n",
    "_set_env(\"LANGSMITH_API_KEY\")\n",
    "os.environ[\"LANGCHAIN_TRACING_V2\"] = \"true\"\n",
    "os.environ[\"LANGCHAIN_PROJECT\"] = \"langchain-academy\"\n",
    "\n",
    "_set_env(\"OPENAI_API_KEY\")\n",
    "_set_env(\"TAVILY_API_KEY\")\n",
    "os.environ[\"TOKENIZERS_PARALLELISM\"] = \"true\"\n",
    "\n",
    "db_path = \"./state_db/example.db\"\n",
    "conn = sqlite3.connect(db_path, check_same_thread=False)\n",
    "memory = SqliteSaver(conn)\n",
    "\n",
    "\n",
    "llm = ChatOllama(model=\"deepseek-r1:7b\")\n",
    "llm_openai = ChatOpenAI(model=\"gpt-4o-mini\")\n",
    "\n",
    "class GraphState(MessagesState):\n",
    "    summary = str\n",
    "\n",
    "def generate_answer(state: GraphState):\n",
    "    summary = state.get(\"summary\", \"\")\n",
    "     \n",
    "    if summary:\n",
    "        system_message = f\"Summary of the conversation earlier: {summary}\"\n",
    "        messages = [SystemMessage(content=system_message)] + state[\"messages\"]\n",
    "    else:\n",
    "        messages = state[\"messages\"]\n",
    "        \n",
    "    response = llm.invoke(messages)\n",
    "    return {\"messages\": response}\n",
    "\n",
    "def summarize_conversation(state: GraphState):\n",
    "    \n",
    "    # First, we get any existing summary\n",
    "    summary = state.get(\"summary\", \"\")\n",
    "\n",
    "    # Create our summarization prompt \n",
    "    if summary:\n",
    "        \n",
    "        # A summary already exists\n",
    "        summary_message = (\n",
    "            f\"This is summary of the conversation to date: {summary}\\n\\n\"\n",
    "            \"Extend the summary by taking into account the new messages above:\"\n",
    "        )\n",
    "        \n",
    "    else:\n",
    "        summary_message = \"Create a summary of the conversation above:\"\n",
    "\n",
    "    # Add prompt to our history\n",
    "    messages = state[\"messages\"] + [HumanMessage(content=summary_message)]\n",
    "    response = llm.invoke(messages)\n",
    "    \n",
    "    # Delete all but the 2 most recent messages\n",
    "    delete_messages = [RemoveMessage(id=m.id) for m in state[\"messages\"][:-2]]\n",
    "    return {\"summary\": response.content, \"messages\": delete_messages}\n",
    "\n",
    "def should_summarise(state: GraphState):\n",
    "    summary = state.get(\"summary\", \"\")\n",
    "    \n",
    "    if len(summary) > 6:\n",
    "        return \"summarize_conversation\"\n",
    "    return END\n",
    "\n",
    "workflow = StateGraph(GraphState)\n",
    "\n",
    "workflow.add_node(\"generate_answer\", generate_answer)\n",
    "workflow.add_node(\"summarize_conversation\", summarize_conversation)\n",
    "\n",
    "workflow.set_entry_point(\"generate_answer\")\n",
    "workflow.add_conditional_edges(\"generate_answer\", should_summarise)\n",
    "workflow.add_edge(\"summarize_conversation\", END)\n",
    "\n",
    "# Add memory\n",
    "graph = workflow.compile(checkpointer=memory)\n",
    "display(Image(graph.get_graph().draw_mermaid_png()))\n"
   ]
  },
  {
   "cell_type": "code",
   "execution_count": 29,
   "metadata": {},
   "outputs": [],
   "source": [
    "config = {\"configurable\": {\"thread_id\": \"297c6887-a96f-4649-8b0f-0d61e5898ab7\"}}"
   ]
  },
  {
   "cell_type": "code",
   "execution_count": 13,
   "metadata": {},
   "outputs": [
    {
     "data": {
      "text/plain": [
       "{'messages': [HumanMessage(content='Hi my name is Ryan', additional_kwargs={}, response_metadata={}, id='220269d0-0f0d-411c-b9c5-7f5ff4832326'),\n",
       "  AIMessage(content='<think>\\n\\n</think>\\n\\nHello, Ryan! How can I assist you today? 😊', additional_kwargs={}, response_metadata={'model': 'deepseek-r1:7b', 'created_at': '2025-02-08T03:56:54.1605961Z', 'done': True, 'done_reason': 'stop', 'total_duration': 6575831100, 'load_duration': 6012043500, 'prompt_eval_count': 8, 'prompt_eval_duration': 174000000, 'eval_count': 18, 'eval_duration': 388000000, 'message': Message(role='assistant', content='', images=None, tool_calls=None)}, id='run-bae99c67-e556-4ecb-b552-de36c5615117-0', usage_metadata={'input_tokens': 8, 'output_tokens': 18, 'total_tokens': 26})]}"
      ]
     },
     "execution_count": 13,
     "metadata": {},
     "output_type": "execute_result"
    }
   ],
   "source": [
    "graph.invoke({\"messages\": \"Hi my name is Ryan\"}, config)"
   ]
  },
  {
   "cell_type": "code",
   "execution_count": null,
   "metadata": {},
   "outputs": [
    {
     "data": {
      "text/plain": [
       "{'messages': [HumanMessage(content='Hi my name is Ryan', additional_kwargs={}, response_metadata={}, id='220269d0-0f0d-411c-b9c5-7f5ff4832326'),\n",
       "  AIMessage(content='<think>\\n\\n</think>\\n\\nHello, Ryan! How can I assist you today? 😊', additional_kwargs={}, response_metadata={'model': 'deepseek-r1:7b', 'created_at': '2025-02-08T03:56:54.1605961Z', 'done': True, 'done_reason': 'stop', 'total_duration': 6575831100, 'load_duration': 6012043500, 'prompt_eval_count': 8, 'prompt_eval_duration': 174000000, 'eval_count': 18, 'eval_duration': 388000000, 'message': {'role': 'assistant', 'content': '', 'images': None, 'tool_calls': None}}, id='run-bae99c67-e556-4ecb-b552-de36c5615117-0', usage_metadata={'input_tokens': 8, 'output_tokens': 18, 'total_tokens': 26}),\n",
       "  HumanMessage(content='What is my name', additional_kwargs={}, response_metadata={}, id='ea373cbd-0084-43ee-8111-8511fe3b1672'),\n",
       "  AIMessage(content='<think>\\nAlright, the user just asked, \"What is my name.\" They previously introduced themselves as Ryan. \\n\\nI need to acknowledge that they\\'ve already provided their name in the previous message.\\n\\nIt\\'s important to confirm that their name is indeed Ryan and offer further assistance if needed.\\n\\nKeeping it friendly and open-ended will encourage them to continue the conversation.\\n</think>\\n\\nHello! My name is Ryan. Is there anything specific you\\'d like to know or discuss? 😊', additional_kwargs={}, response_metadata={'model': 'deepseek-r1:7b', 'created_at': '2025-02-08T03:57:19.9654208Z', 'done': True, 'done_reason': 'stop', 'total_duration': 2621181100, 'load_duration': 12112900, 'prompt_eval_count': 32, 'prompt_eval_duration': 33000000, 'eval_count': 95, 'eval_duration': 2343000000, 'message': Message(role='assistant', content='', images=None, tool_calls=None)}, id='run-16362ed3-6339-4e4c-a372-ba4f121f5ca7-0', usage_metadata={'input_tokens': 32, 'output_tokens': 95, 'total_tokens': 127})]}"
      ]
     },
     "execution_count": 14,
     "metadata": {},
     "output_type": "execute_result"
    }
   ],
   "source": [
    "graph.invoke({\"messages\": \"What is my name\"}, config)"
   ]
  },
  {
   "cell_type": "code",
   "execution_count": 15,
   "metadata": {},
   "outputs": [
    {
     "name": "stdout",
     "output_type": "stream",
     "text": [
      "{'messages': [HumanMessage(content='Hi my name is Ryan', additional_kwargs={}, response_metadata={}, id='220269d0-0f0d-411c-b9c5-7f5ff4832326'), AIMessage(content='<think>\\n\\n</think>\\n\\nHello, Ryan! How can I assist you today? 😊', additional_kwargs={}, response_metadata={'model': 'deepseek-r1:7b', 'created_at': '2025-02-08T03:56:54.1605961Z', 'done': True, 'done_reason': 'stop', 'total_duration': 6575831100, 'load_duration': 6012043500, 'prompt_eval_count': 8, 'prompt_eval_duration': 174000000, 'eval_count': 18, 'eval_duration': 388000000, 'message': {'role': 'assistant', 'content': '', 'images': None, 'tool_calls': None}}, id='run-bae99c67-e556-4ecb-b552-de36c5615117-0', usage_metadata={'input_tokens': 8, 'output_tokens': 18, 'total_tokens': 26}), HumanMessage(content='What is my name', additional_kwargs={}, response_metadata={}, id='ea373cbd-0084-43ee-8111-8511fe3b1672'), AIMessage(content='<think>\\nAlright, the user just asked, \"What is my name.\" They previously introduced themselves as Ryan. \\n\\nI need to acknowledge that they\\'ve already provided their name in the previous message.\\n\\nIt\\'s important to confirm that their name is indeed Ryan and offer further assistance if needed.\\n\\nKeeping it friendly and open-ended will encourage them to continue the conversation.\\n</think>\\n\\nHello! My name is Ryan. Is there anything specific you\\'d like to know or discuss? 😊', additional_kwargs={}, response_metadata={'model': 'deepseek-r1:7b', 'created_at': '2025-02-08T03:57:19.9654208Z', 'done': True, 'done_reason': 'stop', 'total_duration': 2621181100, 'load_duration': 12112900, 'prompt_eval_count': 32, 'prompt_eval_duration': 33000000, 'eval_count': 95, 'eval_duration': 2343000000, 'message': {'role': 'assistant', 'content': '', 'images': None, 'tool_calls': None}}, id='run-16362ed3-6339-4e4c-a372-ba4f121f5ca7-0', usage_metadata={'input_tokens': 32, 'output_tokens': 95, 'total_tokens': 127})]}\n"
     ]
    }
   ],
   "source": [
    "print(graph.get_state(config).values)"
   ]
  },
  {
   "cell_type": "code",
   "execution_count": null,
   "metadata": {},
   "outputs": [],
   "source": [
    "graph.invoke({\"messages\": \"What is my name\"}, config)"
   ]
  },
  {
   "cell_type": "code",
   "execution_count": null,
   "metadata": {},
   "outputs": [],
   "source": [
    "messages = [HumanMessage(content='Hello, my name is Ryan!', additional_kwargs={}, response_metadata={}, id='8ad71e5c-86af-4447-9b13-35f87f879f2c'), AIMessage(content='<think>\\n\\n</think>\\n\\nHello, Ryan! How can I assist you today? 😊', additional_kwargs={}, response_metadata={'model': 'deepseek-r1:7b', 'created_at': '2025-02-08T04:00:09.8650126Z', 'done': True, 'done_reason': 'stop', 'total_duration': 761747200, 'load_duration': 15657600, 'prompt_eval_count': 10, 'prompt_eval_duration': 77000000, 'eval_count': 18, 'eval_duration': 667000000, 'message': {'role': 'assistant', 'content': '', 'images': None, 'tool_calls': None}}, id='run-6b68a174-8da5-4da6-99e6-f5333ed15247', usage_metadata={'input_tokens': 10, 'output_tokens': 18, 'total_tokens': 28}), HumanMessage(content='Can you tell me a bit about yourself?', additional_kwargs={}, response_metadata={}, id='49bbd1fe-8e12-4d7a-8a8e-28cf08a60b25'), AIMessage(content='<think>\\nAlright, so the user just said \"Can you tell me a bit about yourself?\" after saying hello. Hmm, they probably want some information about me as an AI.\\n\\nI need to be honest but polite. I should mention that I\\'m an AI and explain how I work without being too technical. It\\'s important to reassure them that I\\'m here to help with any questions or tasks they have.\\n\\nAlso, I should keep the tone friendly and open-ended so they feel comfortable asking more.\\n</think>\\n\\nI’m an AI assistant created exclusively by DeepSeek. I specialize in helping you tackle complex STEM challenges through efficient calculations and precise predictions.', additional_kwargs={}, response_metadata={'model': 'deepseek-r1:7b', 'created_at': '2025-02-08T04:00:25.6021113Z', 'done': True, 'done_reason': 'stop', 'total_duration': 3129843600, 'load_duration': 14120100, 'prompt_eval_count': 39, 'prompt_eval_duration': 169000000, 'eval_count': 130, 'eval_duration': 2944000000, 'message': {'role': 'assistant', 'content': '', 'images': None, 'tool_calls': None}}, id='run-b58bbe3d-1340-4e44-a621-a0146264c3e3', usage_metadata={'input_tokens': 39, 'output_tokens': 130, 'total_tokens': 169}), HumanMessage(content='Can you tell me the meaning of my name?', additional_kwargs={}, response_metadata={}, id='4a7c3480-9a6b-4257-a3e2-321682c04abf'), AIMessage(content='<think>\\nOkay, so the user just asked, \"Can you tell me the meaning of my name?\" They introduced themselves as Ryan earlier.\\n\\nI need to respond respectfully but also provide a meaningful answer without being too intrusive. Since I don\\'t have personal information about them, I can acknowledge that and offer assistance if they want to share more details.\\n\\nMaybe I should ask if they\\'re interested in exploring their name further or if there\\'s something specific they\\'d like to know. This keeps the conversation open and shows I\\'m willing to help within my capabilities.\\n\\nI also need to remind them to let me know if they want to go deeper, just in case they\\'re open to more detailed information.\\n</think>\\n\\nOf course! I don\\'t have personal information about you, as I don\\'t store or access individual user data. If you\\'d like, you can share some details about your name (e.g., its origin, any meanings you know, or if you\\'d like a general explanation), and I can help explore it further! Let me know how I can assist. 😊', additional_kwargs={}, response_metadata={'model': 'deepseek-r1:7b', 'created_at': '2025-02-08T04:00:55.0753188Z', 'done': True, 'done_reason': 'stop', 'total_duration': 4962449900, 'load_duration': 12083700, 'prompt_eval_count': 181, 'prompt_eval_duration': 97000000, 'eval_count': 216, 'eval_duration': 4848000000, 'message': {'role': 'assistant', 'content': '', 'images': None, 'tool_calls': None}}, id='run-c1d94850-bc48-4b85-b6c3-7a46ba3a6030', usage_metadata={'input_tokens': 181, 'output_tokens': 216, 'total_tokens': 397}), HumanMessage(content='My name is said to mean little king, can you write a poem about it?', additional_kwargs={}, response_metadata={}, id='33d545d5-a7d3-443e-9c23-9d8f32f9929f'), AIMessage(content='<think>\\nAlright, so the user has asked for a poem about their name, which means \"little king.\" They mentioned that my previous interaction was about them not having personal information and offered help if they shared more details.\\n\\nIn this current query, they\\'re asking specifically for a poem. I should acknowledge their request and proceed to write one. \\n\\nI\\'ll need to create a poem that reflects the meaning of their name—\"little king\"—and convey the essence they want to express. Since I don\\'t know their personal background or context, I can focus on themes like strength, courage, and leadership.\\n\\nI\\'ll structure the poem with a consistent rhyme scheme for readability, perhaps using quatrains (four-line stanzas) with an AABB pattern. Each stanza will build upon the theme of being a \"little king\" in different contexts—physically, mentally, symbolically.\\n\\nFinally, I\\'ll end with a hopeful note, encouraging them to embrace their role as a leader and guide others. This should fulfill their request while staying within my capabilities.\\n</think>\\n\\nSure! Here\\'s a poem written about your name:\\n\\n---\\n\\nOh, *Ryan*, your name carries a weight so light yet meaningful,  \\nA title of esteem, it whispers secrets deep.  \\nLike a small yet mighty king, you carry the might,  \\nIn every word and deed, you make quite the sight.\\n\\nYour heart is like a tempest in a teacup small,  \\nYet fierce with passion, it fuels your goal.  \\nA symbol of strength, your spirit defies description,  \\nIn every step, every scar, you rise above.\\n\\nWith wit and skill, you traverse the realm of thought,  \\nTurning challenges into quests that build up worth.  \\nYour courage is vast, like waves in stormy seas,  \\nA leader bold, you inspire, day by day.\\n\\nSo embrace your role, both big and small,  \\nFor this \"little king\" has a heart of gold.  \\nIn every line and rhyme, you’ll find a spark that shines,  \\n guiding hearts to noble goals and signs.\\n\\n---\\n\\nLet me know if you\\'d like more poems or something else! 😊', additional_kwargs={}, response_metadata={'model': 'deepseek-r1:7b', 'created_at': '2025-02-08T04:02:08.5951812Z', 'done': True, 'done_reason': 'stop', 'total_duration': 9738049700, 'load_duration': 13071400, 'prompt_eval_count': 416, 'prompt_eval_duration': 103000000, 'eval_count': 436, 'eval_duration': 9609000000, 'message': {'role': 'assistant', 'content': '', 'images': None, 'tool_calls': None}}, id='run-638195dd-5213-4455-a9eb-a0dc609b7ae1', usage_metadata={'input_tokens': 416, 'output_tokens': 436, 'total_tokens': 852})]"
   ]
  },
  {
   "cell_type": "code",
   "execution_count": 22,
   "metadata": {},
   "outputs": [
    {
     "name": "stdout",
     "output_type": "stream",
     "text": [
      "8\n"
     ]
    }
   ],
   "source": [
    "print(len(messages))"
   ]
  },
  {
   "cell_type": "code",
   "execution_count": 23,
   "metadata": {},
   "outputs": [
    {
     "name": "stdout",
     "output_type": "stream",
     "text": [
      "content='Hello, my name is Ryan!' additional_kwargs={} response_metadata={} id='8ad71e5c-86af-4447-9b13-35f87f879f2c'\n",
      "content='<think>\\n\\n</think>\\n\\nHello, Ryan! How can I assist you today? 😊' additional_kwargs={} response_metadata={'model': 'deepseek-r1:7b', 'created_at': '2025-02-08T04:00:09.8650126Z', 'done': True, 'done_reason': 'stop', 'total_duration': 761747200, 'load_duration': 15657600, 'prompt_eval_count': 10, 'prompt_eval_duration': 77000000, 'eval_count': 18, 'eval_duration': 667000000, 'message': {'role': 'assistant', 'content': '', 'images': None, 'tool_calls': None}} id='run-6b68a174-8da5-4da6-99e6-f5333ed15247' usage_metadata={'input_tokens': 10, 'output_tokens': 18, 'total_tokens': 28}\n",
      "content='Can you tell me a bit about yourself?' additional_kwargs={} response_metadata={} id='49bbd1fe-8e12-4d7a-8a8e-28cf08a60b25'\n",
      "content='<think>\\nAlright, so the user just said \"Can you tell me a bit about yourself?\" after saying hello. Hmm, they probably want some information about me as an AI.\\n\\nI need to be honest but polite. I should mention that I\\'m an AI and explain how I work without being too technical. It\\'s important to reassure them that I\\'m here to help with any questions or tasks they have.\\n\\nAlso, I should keep the tone friendly and open-ended so they feel comfortable asking more.\\n</think>\\n\\nI’m an AI assistant created exclusively by DeepSeek. I specialize in helping you tackle complex STEM challenges through efficient calculations and precise predictions.' additional_kwargs={} response_metadata={'model': 'deepseek-r1:7b', 'created_at': '2025-02-08T04:00:25.6021113Z', 'done': True, 'done_reason': 'stop', 'total_duration': 3129843600, 'load_duration': 14120100, 'prompt_eval_count': 39, 'prompt_eval_duration': 169000000, 'eval_count': 130, 'eval_duration': 2944000000, 'message': {'role': 'assistant', 'content': '', 'images': None, 'tool_calls': None}} id='run-b58bbe3d-1340-4e44-a621-a0146264c3e3' usage_metadata={'input_tokens': 39, 'output_tokens': 130, 'total_tokens': 169}\n",
      "content='Can you tell me the meaning of my name?' additional_kwargs={} response_metadata={} id='4a7c3480-9a6b-4257-a3e2-321682c04abf'\n",
      "content='<think>\\nOkay, so the user just asked, \"Can you tell me the meaning of my name?\" They introduced themselves as Ryan earlier.\\n\\nI need to respond respectfully but also provide a meaningful answer without being too intrusive. Since I don\\'t have personal information about them, I can acknowledge that and offer assistance if they want to share more details.\\n\\nMaybe I should ask if they\\'re interested in exploring their name further or if there\\'s something specific they\\'d like to know. This keeps the conversation open and shows I\\'m willing to help within my capabilities.\\n\\nI also need to remind them to let me know if they want to go deeper, just in case they\\'re open to more detailed information.\\n</think>\\n\\nOf course! I don\\'t have personal information about you, as I don\\'t store or access individual user data. If you\\'d like, you can share some details about your name (e.g., its origin, any meanings you know, or if you\\'d like a general explanation), and I can help explore it further! Let me know how I can assist. 😊' additional_kwargs={} response_metadata={'model': 'deepseek-r1:7b', 'created_at': '2025-02-08T04:00:55.0753188Z', 'done': True, 'done_reason': 'stop', 'total_duration': 4962449900, 'load_duration': 12083700, 'prompt_eval_count': 181, 'prompt_eval_duration': 97000000, 'eval_count': 216, 'eval_duration': 4848000000, 'message': {'role': 'assistant', 'content': '', 'images': None, 'tool_calls': None}} id='run-c1d94850-bc48-4b85-b6c3-7a46ba3a6030' usage_metadata={'input_tokens': 181, 'output_tokens': 216, 'total_tokens': 397}\n",
      "content='My name is said to mean little king, can you write a poem about it?' additional_kwargs={} response_metadata={} id='33d545d5-a7d3-443e-9c23-9d8f32f9929f'\n",
      "content='<think>\\nAlright, so the user has asked for a poem about their name, which means \"little king.\" They mentioned that my previous interaction was about them not having personal information and offered help if they shared more details.\\n\\nIn this current query, they\\'re asking specifically for a poem. I should acknowledge their request and proceed to write one. \\n\\nI\\'ll need to create a poem that reflects the meaning of their name—\"little king\"—and convey the essence they want to express. Since I don\\'t know their personal background or context, I can focus on themes like strength, courage, and leadership.\\n\\nI\\'ll structure the poem with a consistent rhyme scheme for readability, perhaps using quatrains (four-line stanzas) with an AABB pattern. Each stanza will build upon the theme of being a \"little king\" in different contexts—physically, mentally, symbolically.\\n\\nFinally, I\\'ll end with a hopeful note, encouraging them to embrace their role as a leader and guide others. This should fulfill their request while staying within my capabilities.\\n</think>\\n\\nSure! Here\\'s a poem written about your name:\\n\\n---\\n\\nOh, *Ryan*, your name carries a weight so light yet meaningful,  \\nA title of esteem, it whispers secrets deep.  \\nLike a small yet mighty king, you carry the might,  \\nIn every word and deed, you make quite the sight.\\n\\nYour heart is like a tempest in a teacup small,  \\nYet fierce with passion, it fuels your goal.  \\nA symbol of strength, your spirit defies description,  \\nIn every step, every scar, you rise above.\\n\\nWith wit and skill, you traverse the realm of thought,  \\nTurning challenges into quests that build up worth.  \\nYour courage is vast, like waves in stormy seas,  \\nA leader bold, you inspire, day by day.\\n\\nSo embrace your role, both big and small,  \\nFor this \"little king\" has a heart of gold.  \\nIn every line and rhyme, you’ll find a spark that shines,  \\n guiding hearts to noble goals and signs.\\n\\n---\\n\\nLet me know if you\\'d like more poems or something else! 😊' additional_kwargs={} response_metadata={'model': 'deepseek-r1:7b', 'created_at': '2025-02-08T04:02:08.5951812Z', 'done': True, 'done_reason': 'stop', 'total_duration': 9738049700, 'load_duration': 13071400, 'prompt_eval_count': 416, 'prompt_eval_duration': 103000000, 'eval_count': 436, 'eval_duration': 9609000000, 'message': {'role': 'assistant', 'content': '', 'images': None, 'tool_calls': None}} id='run-638195dd-5213-4455-a9eb-a0dc609b7ae1' usage_metadata={'input_tokens': 416, 'output_tokens': 436, 'total_tokens': 852}\n"
     ]
    }
   ],
   "source": [
    "for message in messages:\n",
    "    print(message)"
   ]
  },
  {
   "cell_type": "code",
   "execution_count": null,
   "metadata": {},
   "outputs": [
    {
     "data": {
      "text/plain": [
       "<generator object SqliteSaver.list at 0x0000011B6A1DCFC0>"
      ]
     },
     "execution_count": 30,
     "metadata": {},
     "output_type": "execute_result"
    }
   ],
   "source": [
    "import sqlite3\n",
    "from langgraph.checkpoint.sqlite import SqliteSaver\n",
    "\n",
    "db_path = \"./state_db/example.db\"\n",
    "conn = sqlite3.connect(db_path, check_same_thread=False)\n",
    "memory = SqliteSaver(conn)\n"
   ]
  },
  {
   "cell_type": "code",
   "execution_count": null,
   "metadata": {},
   "outputs": [],
   "source": [
    "from langchain_community.document_loaders import PyPDFLoader\n",
    "\n",
    "loader = PyPDFLoader()"
   ]
  }
 ],
 "metadata": {
  "kernelspec": {
   "display_name": "Python 3",
   "language": "python",
   "name": "python3"
  },
  "language_info": {
   "codemirror_mode": {
    "name": "ipython",
    "version": 3
   },
   "file_extension": ".py",
   "mimetype": "text/x-python",
   "name": "python",
   "nbconvert_exporter": "python",
   "pygments_lexer": "ipython3",
   "version": "3.13.0"
  }
 },
 "nbformat": 4,
 "nbformat_minor": 2
}
