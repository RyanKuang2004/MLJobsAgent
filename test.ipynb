{
 "cells": [
  {
   "cell_type": "code",
   "execution_count": 1,
   "metadata": {},
   "outputs": [],
   "source": [
    "from langchain_chroma import Chroma\n",
    "from langchain_openai import OpenAIEmbeddings\n",
    "\n",
    "vectorstore_path = \"./chroma\"\n",
    "\n",
    "db = Chroma(\n",
    "    persist_directory=vectorstore_path,\n",
    "    embedding_function=OpenAIEmbeddings(model=\"text-embedding-3-small\")\n",
    ")"
   ]
  },
  {
   "cell_type": "code",
   "execution_count": 2,
   "metadata": {},
   "outputs": [
    {
     "name": "stdout",
     "output_type": "stream",
     "text": [
      "**Responsibilities**\n",
      "\n",
      "*   Work closely with stakeholders to understand user requirements and translate them into scalable AI solutions.\n",
      "*   Continuously monitor and refine LLM systems to ensure optimal performance and alignment with evolving business needs.\n",
      "*   Experiment with and implement state-of-the-art methodologies to improve AI model performance and reliability.\n",
      "*   Collaborate with the broader team to prioritize and deliver impactful features on time.\n",
      "\n",
      "**Skillset & Experience**\n",
      "\n",
      "*   Proven experience deploying and optimizing large language models in production environments.\n",
      "*   Hands-on expertise in designing and implementing retrieval-augmented generation (RAG) systems.\n",
      "*   A strong background in building evaluation frameworks and improving AI systems iteratively.\n",
      "*   Familiarity with cloud platforms such as Google Cloud Platform (GCP) or similar environments.\n",
      "*   Adaptability and a problem-solving mindset to thrive in fast-paced, high-ambiguity situations.\n",
      "**We're interested in hearing from people who:**\n",
      "\n",
      "*   Can bring their expertise in Gen AI Models (LLMs, GANs, RL and RAG)\n",
      "*   Deliver innovative solutions using Gen AI technologies\n",
      "*   Show a thorough understanding of ML and deep learning principles and algorithms\n",
      "*   Are experienced with cloud platforms, ideally AWS\n",
      "*   Code in multiple languages including Python, and enjoy working with machine learning frameworks (such as TensorFlow, PyTorch, or Scikit-Learn)\n",
      "*   Work with large datasets, with knowledge of Data Pre-Processing Techniques\n",
      "\n",
      "**Tech skills**\n",
      "\n",
      "We use a broad range of tools, languages, and frameworks. We do not expect you to know them all but experience or exposure with some of these (or equivalents) will set you up for success in this team;\n",
      "\n",
      "*   Proficiency in languages such as Python, Java, or C++\n",
      "*   AWS services such as SageMaker, Bedrock, Rekognition, and Comprehend\n",
      "*   Docker or Kubernetes\n",
      "*   DevOps practices and tools such as Github Actions, Jenkins, Terraform\n",
      "*   Strong understanding and practical experience in statistics and machine learning, including causal inference and experimental design.\n",
      "*   Proficiency in Python, SQL, and machine learning frameworks (e.g TensorFlow, PyTorch)\n",
      "*   Strong background in AI/ML techniques, including NLP (traditional and LLMs), computer vision and predictive analytics.\n",
      "*   Strong knowledge of data science tools and technologies, including programming languages such as Python and the use of Git.\n",
      "*   Experience in platforms such as Snowflake, S3 and Databricks/SageMaker (beneficial).\n",
      "*   Familiar with cloud platforms such as AWS or Azure (beneficial).\n",
      "*   Experience with software development industry best practices.\n",
      "*   Strong stakeholder relationship management skills.\n",
      "*   Excellent problem-solving and analytical abilities.\n",
      "*   Awareness and understanding of Generative AI, Prompt Engineering and Large Language Models is highly desirable.  \n",
      "    \n",
      "*   Experience applying machine learning methods to products, features and/or services, including minimizing footprint, evaluating trade-offs, and pipeline work.  \n",
      "    \n",
      "*   Experience with cloud platforms, micro-services, and serverless architectures (ideally with AWS) and deployments, including devOps and CI/CD experience.  \n",
      "    \n",
      "*   An ability to communicate effectively with non-engineers of varying levels at the company including coaching both technical and non-technical skills.  \n",
      "    \n",
      "*   Previous experience with programming languages, techniques, and frameworks aligned with machine learning and software systems e.g. Python, Typescript, ML platforms such as Amazon SageMaker, LLMs platforms such as OpenAI, Amazon Bedrock, libraries like Pandas, & SKLearn.\n",
      "**Required Skills**  \n",
      "\n",
      "*   Strong understanding and practical experience in statistics and machine learning, including causal inference and experimental design.\n",
      "*   Proficiency in Python, SQL, and machine learning frameworks (e.g TensorFlow, PyTorch)\n",
      "*   Strong background in AI/ML techniques, including NLP (traditional and LLMs), computer vision and predictive analytics.\n",
      "*   Strong knowledge of data science tools and technologies, including programming languages such as Python and the use of Git.\n",
      "*   Experience in platforms such as Snowflake, S3 and Databricks/SageMaker (beneficial).\n",
      "*   Familiar with cloud platforms such as AWS or Azure\n"
     ]
    }
   ],
   "source": [
    "retriever = db.as_retriever(search_kwargs={\"k\": 5})\n",
    "documents = retriever.invoke(\"Does knowing how to build RAGs helpful for getting a job in Machine Learning\")\n",
    "for doc in documents:\n",
    "    print(doc.page_content)"
   ]
  }
 ],
 "metadata": {
  "kernelspec": {
   "display_name": "Python 3",
   "language": "python",
   "name": "python3"
  },
  "language_info": {
   "codemirror_mode": {
    "name": "ipython",
    "version": 3
   },
   "file_extension": ".py",
   "mimetype": "text/x-python",
   "name": "python",
   "nbconvert_exporter": "python",
   "pygments_lexer": "ipython3",
   "version": "3.13.0"
  }
 },
 "nbformat": 4,
 "nbformat_minor": 2
}
